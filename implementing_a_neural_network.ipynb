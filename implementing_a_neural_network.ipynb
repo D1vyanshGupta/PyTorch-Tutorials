{
 "cells": [
  {
   "cell_type": "code",
   "execution_count": 1,
   "metadata": {},
   "outputs": [],
   "source": [
    "# importing the necessary torch packages\n",
    "import torch\n",
    "import torch.nn as nn\n",
    "import torch.nn.functional as F"
   ]
  },
  {
   "cell_type": "code",
   "execution_count": 2,
   "metadata": {},
   "outputs": [],
   "source": [
    "# defining the neural network class\n",
    "class Net(nn.Module):\n",
    "    \n",
    "    # defining the constructor of the class\n",
    "    def __init__(self):\n",
    "        # invoke the constructor of the superclass\n",
    "        super(Net, self).__init__()\n",
    "        \n",
    "        # 1 input image channel, 6 output channels, 5 x 5 square convolution\n",
    "        \n",
    "        # first convolutional layer\n",
    "        # 1 input channel, 6 filters of dimension 5 x 5 are applied\n",
    "        self.conv1 = nn.Conv2d(1, 6, 5)\n",
    "        \n",
    "        # second convolutional layer\n",
    "        # 6 input channels, 16 filters of dimension 5 x 5 are applied\n",
    "        self.conv2 = nn.Conv2d(6, 16, 5)\n",
    "        \n",
    "        # define the fully connected layers\n",
    "        # affine operation: Wx + b = y\n",
    "        \n",
    "        # first fully connected layer\n",
    "        # weight matrix of dimensions (16 * 5 * 5) = 400 x 120\n",
    "        self.fc1 = nn.Linear(16 * 5 * 5, 120)\n",
    "        \n",
    "        # second fully connected layer\n",
    "        # weight matrix of dimensions 120 x 84\n",
    "        self.fc2 = nn.Linear(120, 84)\n",
    "        \n",
    "        # third fully connected layer\n",
    "        # weight matrix of dimensions 84 x 10\n",
    "        self.fc3 = nn.Linear(84, 10)\n",
    "    \n",
    "    # implement the forward pass\n",
    "    def forward(self, x):\n",
    "        # implement the first convolution\n",
    "        x = self.conv1(x)\n",
    "        \n",
    "        # apply the ReLU activation\n",
    "        x = F.relu(x)\n",
    "        \n",
    "        # apply max-pooling with a 2 x 2 filter\n",
    "        x = F.max_pool2d(x, (2,2))\n",
    "        \n",
    "        # implement the second convolution\n",
    "        x = self.conv2(x)\n",
    "        \n",
    "        # apply the ReLU activation\n",
    "        x = F.relu(x)\n",
    "        \n",
    "        # apply max-pooling with a 2 x 2 filter\n",
    "        x = F.max_pool2d(x, 2)\n",
    "        \n",
    "        # flatten the matrices across multiple channels into row vectors\n",
    "        x = x.view(-1, self.num_flat_features(x))\n",
    "        \n",
    "        # implement forward pass through the first fully connected layer\n",
    "        x = self.fc1(x)\n",
    "        \n",
    "        # implement the ReLU activation\n",
    "        x = F.relu(x)\n",
    "\n",
    "        # implement forward pass through the second fully connected layer\n",
    "        x = self.fc2(x)\n",
    "        \n",
    "        # implement the ReLU activation\n",
    "        x = F.relu(x)\n",
    "        \n",
    "        # implement forward pass through the third fully connected layer\n",
    "        x = self.fc3(x)\n",
    "        \n",
    "        return x\n",
    "    \n",
    "    def num_flat_features(self, x):\n",
    "        # retrieve all dimensions except the batch dimension\n",
    "        size = x.size()[1:]\n",
    "        num_features = 1\n",
    "        for s in size:\n",
    "            num_features *= s\n",
    "        return num_features"
   ]
  },
  {
   "cell_type": "code",
   "execution_count": 3,
   "metadata": {},
   "outputs": [
    {
     "name": "stdout",
     "output_type": "stream",
     "text": [
      "Net(\n",
      "  (conv1): Conv2d(1, 6, kernel_size=(5, 5), stride=(1, 1))\n",
      "  (conv2): Conv2d(6, 16, kernel_size=(5, 5), stride=(1, 1))\n",
      "  (fc1): Linear(in_features=400, out_features=120, bias=True)\n",
      "  (fc2): Linear(in_features=120, out_features=84, bias=True)\n",
      "  (fc3): Linear(in_features=84, out_features=10, bias=True)\n",
      ")\n"
     ]
    }
   ],
   "source": [
    "net = Net()\n",
    "print(net)"
   ]
  },
  {
   "cell_type": "code",
   "execution_count": 4,
   "metadata": {},
   "outputs": [
    {
     "name": "stdout",
     "output_type": "stream",
     "text": [
      "10\n",
      "torch.Size([6, 1, 5, 5])\n"
     ]
    }
   ],
   "source": [
    "params = list(net.parameters())\n",
    "print(len(params))\n",
    "print(params[0].size()) "
   ]
  },
  {
   "cell_type": "code",
   "execution_count": 5,
   "metadata": {},
   "outputs": [
    {
     "name": "stdout",
     "output_type": "stream",
     "text": [
      "tensor([[-0.0773,  0.1561, -0.0570,  0.0241,  0.0569, -0.0472,  0.0796, -0.0741,\n",
      "         -0.0441,  0.1172]], grad_fn=<ThAddmmBackward>)\n"
     ]
    }
   ],
   "source": [
    "# trying with a random 32 x 32 input\n",
    "input = torch.randn(1, 1, 32, 32)\n",
    "out = net(input)\n",
    "print(out)"
   ]
  },
  {
   "cell_type": "code",
   "execution_count": 6,
   "metadata": {},
   "outputs": [],
   "source": [
    "# set the gradient buffers of all parameters to 0 and backprop with random gradients\n",
    "net.zero_grad()\n",
    "out.backward(torch.randn(1, 10))"
   ]
  },
  {
   "cell_type": "code",
   "execution_count": 7,
   "metadata": {},
   "outputs": [
    {
     "name": "stdout",
     "output_type": "stream",
     "text": [
      "tensor(1.6555, grad_fn=<MseLossBackward>)\n"
     ]
    }
   ],
   "source": [
    "# calculating the loss\n",
    "output = net(input)\n",
    "\n",
    "# a dummy target, for example\n",
    "target = torch.randn(10)  \n",
    "\n",
    "# make it the same shape as output\n",
    "target = target.view(1, -1)  \n",
    "\n",
    "# set the loss function: Mean Squared Error\n",
    "criterion = nn.MSELoss()\n",
    "\n",
    "loss = criterion(output, target)\n",
    "print(loss)"
   ]
  },
  {
   "cell_type": "code",
   "execution_count": 13,
   "metadata": {},
   "outputs": [
    {
     "name": "stdout",
     "output_type": "stream",
     "text": [
      "<MseLossBackward object at 0x11d307c18>\n",
      "<ThAddmmBackward object at 0x11d314c18>\n",
      "<ExpandBackward object at 0x11d314d68>\n"
     ]
    }
   ],
   "source": [
    "print(loss.grad_fn)  # MSELoss\n",
    "print(loss.grad_fn.next_functions[0][0])  # Linear\n",
    "print(loss.grad_fn.next_functions[0][0].next_functions[0][0])  # ReLU"
   ]
  },
  {
   "cell_type": "code",
   "execution_count": 14,
   "metadata": {},
   "outputs": [
    {
     "name": "stdout",
     "output_type": "stream",
     "text": [
      "conv1.bias.grad before backward\n",
      "tensor([0., 0., 0., 0., 0., 0.])\n",
      "conv1.bias.grad after backward\n",
      "tensor([-0.0318, -0.0042, -0.0058,  0.0231,  0.0036,  0.0177])\n"
     ]
    }
   ],
   "source": [
    "# implementing back propagation\n",
    "\n",
    "# set the gradient buffers of all parameters to 0\n",
    "net.zero_grad()     \n",
    "\n",
    "print('conv1.bias.grad before backward')\n",
    "print(net.conv1.bias.grad)\n",
    "\n",
    "loss.backward()\n",
    "\n",
    "print('conv1.bias.grad after backward')\n",
    "print(net.conv1.bias.grad)"
   ]
  },
  {
   "cell_type": "code",
   "execution_count": 15,
   "metadata": {},
   "outputs": [],
   "source": [
    "# update the parameters in the network\n",
    "learning_rate = 0.01\n",
    "for f in net.parameters():\n",
    "    f.data.sub_(f.grad.data * learning_rate)"
   ]
  },
  {
   "cell_type": "code",
   "execution_count": null,
   "metadata": {},
   "outputs": [],
   "source": [
    "import torch.optim as optim\n",
    "\n",
    "# create your optimizer\n",
    "optimizer = optim.SGD(net.parameters(), lr=0.01)\n",
    "\n",
    "# in the training loop:\n",
    "\n",
    "# set the gradient buffers to 0\n",
    "optimizer.zero_grad()  \n",
    "\n",
    "# implement the forward pass through the network\n",
    "output = net(input)\n",
    "\n",
    "# calculate the loss\n",
    "loss = criterion(output, target)\n",
    "\n",
    "# implement back propagation\n",
    "loss.backward()\n",
    "\n",
    "# update the weights in the network\n",
    "optimizer.step()"
   ]
  }
 ],
 "metadata": {
  "kernelspec": {
   "display_name": "Python 3",
   "language": "python",
   "name": "python3"
  },
  "language_info": {
   "codemirror_mode": {
    "name": "ipython",
    "version": 3
   },
   "file_extension": ".py",
   "mimetype": "text/x-python",
   "name": "python",
   "nbconvert_exporter": "python",
   "pygments_lexer": "ipython3",
   "version": "3.6.6"
  }
 },
 "nbformat": 4,
 "nbformat_minor": 2
}
